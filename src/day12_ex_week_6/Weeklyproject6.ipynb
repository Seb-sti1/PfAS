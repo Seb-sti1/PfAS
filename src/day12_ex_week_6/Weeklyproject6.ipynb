{
 "cells": [
  {
   "attachments": {},
   "cell_type": "markdown",
   "metadata": {},
   "source": [
    "# Weekly project 6\n",
    "Today we will continue work from monday.\n",
    "We will follow the style of last week.\n",
    "\n",
    "Weekly project:\n",
    "- You will need to implement your own k-means algorithm. You are not allowed to use the implementation in `sklearn`.\n",
    "- It should be able to cluster each of the different figures.\n",
    "- Extend your k-means so it finds the optimal amount of clusters.\n",
    "  \n",
    "## Challenge\n",
    "- Implement the mean shift clustering algorithm\n"
   ]
  },
  {
   "cell_type": "code",
   "metadata": {
    "ExecuteTime": {
     "end_time": "2024-10-10T12:38:11.380287Z",
     "start_time": "2024-10-10T12:38:08.635957Z"
    }
   },
   "source": [
    "\n",
    "import copy\n",
    "\n",
    "import matplotlib.pyplot as plt\n",
    "import numpy as np\n",
    "import open3d as o3d\n",
    "\n",
    "\n",
    "def draw_labels_on_model(pcl, labels):\n",
    "    cmap = plt.get_cmap(\"tab20\")\n",
    "    pcl_temp = copy.deepcopy(pcl)\n",
    "    max_label = labels.max()\n",
    "    colors = cmap(labels / (max_label if max_label > 0 else 1))\n",
    "    colors[labels < 0] = 0\n",
    "    pcl_temp.colors = o3d.utility.Vector3dVector(colors[:, :3])\n",
    "    o3d.visualization.draw_geometries([pcl_temp])\n",
    "\n",
    "\n",
    "d = 4\n",
    "mesh = o3d.geometry.TriangleMesh().create_tetrahedron().translate((-d, 0, 0))\n",
    "mesh += o3d.geometry.TriangleMesh().create_octahedron().translate((0, 0, 0))\n",
    "mesh += o3d.geometry.TriangleMesh().create_icosahedron().translate((d, 0, 0))\n",
    "mesh += o3d.geometry.TriangleMesh().create_torus().translate((-d, -d, 0))\n",
    "# mesh += o3d.geometry.TriangleMesh.create_moebius(twists=1).translate((0, -d, 0))\n",
    "# mesh += o3d.geometry.TriangleMesh.create_moebius(twists=2).translate((d, -d, 0))\n",
    "\n",
    "## apply k means on this\n",
    "point_cloud = mesh.sample_points_uniformly(int(2e3))"
   ],
   "outputs": [
    {
     "name": "stdout",
     "output_type": "stream",
     "text": [
      "Jupyter environment detected. Enabling Open3D WebVisualizer.\n",
      "[Open3D INFO] WebRTC GUI backend enabled.\n",
      "[Open3D INFO] WebRTCWindowSystem: HTTP handshake server disabled.\n"
     ]
    }
   ],
   "execution_count": 1
  },
  {
   "metadata": {
    "ExecuteTime": {
     "end_time": "2024-10-10T12:42:45.142570Z",
     "start_time": "2024-10-10T12:42:45.126267Z"
    }
   },
   "cell_type": "code",
   "source": [
    "import random as rand\n",
    "\n",
    "\n",
    "def euclidean(a: np.array, b: np.array) -> float:\n",
    "    return np.linalg.norm(a - b)\n",
    "\n",
    "\n",
    "def find_center(points: np.array, index: list[int]) -> np.array:\n",
    "    mean = np.mean(points[index, :], axis=0)\n",
    "    return mean  #np.argmin([euclidean(points[i, :], mean) if i in index else euclidean(points[index[0], :], mean) + 1\n",
    "    #     for i in range(points.shape[0])])\n",
    "\n",
    "\n",
    "def create_label(length: int, clusters: list[list[int]]) -> np.array:\n",
    "    labels = np.zeros((length))\n",
    "    for i in range(len(clusters)):\n",
    "        labels[clusters[i]] = i\n",
    "    return labels\n",
    "\n",
    "\n",
    "def kmeans(k, points, n_init=10, tol=1e-04, distance=euclidean) -> np.array:\n",
    "    best_score = None\n",
    "    best_clusters = None\n",
    "\n",
    "    for _ in range(n_init):\n",
    "        centers = rand.choices([points[i, :] for i in range(points.shape[0])], k=k)\n",
    "        while True:\n",
    "            clusters = [[] for _ in range(k)]\n",
    "\n",
    "            for i in range(points.shape[0]):\n",
    "                p = points[i, :]\n",
    "                cluster_idx = np.argmin([distance(p, c) for c in centers])\n",
    "                clusters[cluster_idx].append(i)\n",
    "\n",
    "            new_centers = [find_center(points, cluster) for cluster in clusters]\n",
    "\n",
    "            if all([distance(new_centers[i], centers[i]) < tol for i in range(k)]):\n",
    "                score = 0\n",
    "                for i, cluster in enumerate(clusters):\n",
    "                    score += sum([distance(new_centers[i], points[idx]) for idx in cluster])\n",
    "                score /= points.shape[0]\n",
    "                # print(score)\n",
    "                # labels = create_label(points.shape[0], clusters)\n",
    "                # draw_labels_on_model(point_cloud, labels)\n",
    "\n",
    "                if best_score is None or score < best_score:\n",
    "                    best_score = score\n",
    "                    best_clusters = clusters\n",
    "                break\n",
    "            centers = new_centers\n",
    "\n",
    "    return create_label(points.shape[0], best_clusters)"
   ],
   "outputs": [],
   "execution_count": 15
  },
  {
   "metadata": {
    "ExecuteTime": {
     "end_time": "2024-10-10T12:42:54.111010Z",
     "start_time": "2024-10-10T12:42:47.326521Z"
    }
   },
   "cell_type": "code",
   "source": "labels = kmeans(4, np.asarray(point_cloud.points))",
   "outputs": [],
   "execution_count": 16
  },
  {
   "metadata": {
    "ExecuteTime": {
     "end_time": "2024-10-10T12:42:57.397099Z",
     "start_time": "2024-10-10T12:42:55.653834Z"
    }
   },
   "cell_type": "code",
   "outputs": [],
   "execution_count": 17,
   "source": "draw_labels_on_model(point_cloud, labels)"
  },
  {
   "metadata": {},
   "cell_type": "markdown",
   "source": "# mean shift clustering algo"
  },
  {
   "metadata": {
    "ExecuteTime": {
     "end_time": "2024-10-10T14:16:10.508037Z",
     "start_time": "2024-10-10T14:16:10.503833Z"
    }
   },
   "cell_type": "code",
   "source": [
    "one_over_sqrt_two_pi = 1 / np.sqrt(2 * np.pi)\n",
    "\n",
    "\n",
    "def gaussian(x):\n",
    "    return one_over_sqrt_two_pi * np.exp(-np.linalg.norm(x) ** 2 / 2)\n",
    "\n",
    "\n",
    "def gaussian_opti(x):\n",
    "    # x is a list of vector (np.array of dim (n of line, 3))\n",
    "    return one_over_sqrt_two_pi * np.exp(-np.sum(np.square(x), axis=1) / 2)\n",
    "\n",
    "\n",
    "def mean_shift(points, kernel=gaussian_opti, h=2, tol=1e-04) -> np.array:\n",
    "    centers = points[:]\n",
    "    while True:\n",
    "        new_centers = np.zeros_like(centers)\n",
    "        for i, c in enumerate(centers):\n",
    "            cluster = points[np.linalg.norm(points - c, axis=1) < h, :]\n",
    "            factor = kernel((cluster - c) / h)\n",
    "            new_centers[i, :] = np.sum(factor[:, np.newaxis] * cluster, axis=0) / np.sum(factor)\n",
    "\n",
    "        if np.mean(np.linalg.norm(new_centers - centers, axis=1)) < tol:\n",
    "            break\n",
    "        centers = new_centers\n",
    "\n",
    "    labels = np.zeros((centers.shape[0], 1))\n",
    "    unique_centers = []\n",
    "    for i, c in enumerate(centers):\n",
    "        label = -1\n",
    "\n",
    "        for l, know_c in enumerate(unique_centers):\n",
    "            if np.linalg.norm(know_c - c) < tol:\n",
    "                label = l\n",
    "                break\n",
    "\n",
    "        if label != -1:\n",
    "            labels[i] = label\n",
    "        else:\n",
    "            labels[i] = len(unique_centers)\n",
    "            unique_centers.append(c)"
   ],
   "outputs": [],
   "execution_count": 71
  },
  {
   "metadata": {
    "ExecuteTime": {
     "end_time": "2024-10-10T14:16:20.148382Z",
     "start_time": "2024-10-10T14:16:12.089647Z"
    }
   },
   "cell_type": "code",
   "source": "label = mean_shift(np.asarray(point_cloud.points))",
   "outputs": [],
   "execution_count": 72
  },
  {
   "metadata": {
    "ExecuteTime": {
     "end_time": "2024-10-10T14:16:26.123127Z",
     "start_time": "2024-10-10T14:16:20.152303Z"
    }
   },
   "cell_type": "code",
   "source": "draw_labels_on_model(point_cloud, labels)",
   "outputs": [],
   "execution_count": 73
  }
 ],
 "metadata": {
  "kernelspec": {
   "display_name": "Python 3",
   "language": "python",
   "name": "python3"
  },
  "language_info": {
   "codemirror_mode": {
    "name": "ipython",
    "version": 3
   },
   "file_extension": ".py",
   "mimetype": "text/x-python",
   "name": "python",
   "nbconvert_exporter": "python",
   "pygments_lexer": "ipython3",
   "version": "3.10.8"
  },
  "toc": {
   "base_numbering": 1,
   "nav_menu": {},
   "number_sections": true,
   "sideBar": true,
   "skip_h1_title": false,
   "title_cell": "Table of Contents",
   "title_sidebar": "Contents",
   "toc_cell": false,
   "toc_position": {},
   "toc_section_display": true,
   "toc_window_display": false
  },
  "varInspector": {
   "cols": {
    "lenName": 16,
    "lenType": 16,
    "lenVar": 40
   },
   "kernels_config": {
    "python": {
     "delete_cmd_postfix": "",
     "delete_cmd_prefix": "del ",
     "library": "var_list.py",
     "varRefreshCmd": "print(var_dic_list())"
    },
    "r": {
     "delete_cmd_postfix": ") ",
     "delete_cmd_prefix": "rm(",
     "library": "var_list.r",
     "varRefreshCmd": "cat(var_dic_list()) "
    }
   },
   "types_to_exclude": [
    "module",
    "function",
    "builtin_function_or_method",
    "instance",
    "_Feature"
   ],
   "window_display": false
  }
 },
 "nbformat": 4,
 "nbformat_minor": 4
}
