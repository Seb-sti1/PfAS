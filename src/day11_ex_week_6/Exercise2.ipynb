{
 "cells": [
  {
   "attachments": {},
   "cell_type": "markdown",
   "metadata": {},
   "source": [
    "# Exercise 2\n",
    "Today we are going to continue to work on point clouds.\n",
    "We will work on clustering point clouds. That enables us to segment them."
   ]
  },
  {
   "cell_type": "code",
   "metadata": {
    "ExecuteTime": {
     "end_time": "2024-10-07T15:41:25.216256Z",
     "start_time": "2024-10-07T15:41:23.878291Z"
    }
   },
   "source": [
    "import copy\n",
    "\n",
    "import matplotlib.pyplot as plt\n",
    "import numpy as np\n",
    "import open3d as o3d\n",
    "from sklearn.cluster import KMeans"
   ],
   "outputs": [
    {
     "name": "stdout",
     "output_type": "stream",
     "text": [
      "Jupyter environment detected. Enabling Open3D WebVisualizer.\n",
      "[Open3D INFO] WebRTC GUI backend enabled.\n",
      "[Open3D INFO] WebRTCWindowSystem: HTTP handshake server disabled.\n"
     ]
    }
   ],
   "execution_count": 1
  },
  {
   "cell_type": "code",
   "metadata": {
    "ExecuteTime": {
     "end_time": "2024-10-07T15:41:25.224592Z",
     "start_time": "2024-10-07T15:41:25.220647Z"
    }
   },
   "source": [
    "def draw_labels_on_model(pcl, labels):\n",
    "    cmap = plt.get_cmap(\"tab20\")\n",
    "    pcl_temp = copy.deepcopy(pcl)\n",
    "    max_label = labels.max()\n",
    "    print(\"%s has %d clusters\" % (pcl_name, max_label + 1))\n",
    "    colors = cmap(labels / (max_label if max_label > 0 else 1))\n",
    "    colors[labels < 0] = 0\n",
    "    pcl_temp.colors = o3d.utility.Vector3dVector(colors[:, :3])\n",
    "    o3d.visualization.draw_geometries([pcl_temp])\n",
    "\n"
   ],
   "outputs": [],
   "execution_count": 2
  },
  {
   "attachments": {},
   "cell_type": "markdown",
   "metadata": {},
   "source": [
    "## K-means on a cube\n",
    "We created a point cloud using `open3d`.\n",
    "Our goal is to segment each side using k-means."
   ]
  },
  {
   "cell_type": "code",
   "metadata": {
    "ExecuteTime": {
     "end_time": "2024-10-07T15:41:36.330713Z",
     "start_time": "2024-10-07T15:41:27.937834Z"
    }
   },
   "source": [
    "pcl_name = 'Cube'\n",
    "density = 1e4  # density of sample points to create\n",
    "pcl = o3d.geometry.TriangleMesh.create_box().sample_points_uniformly(int(density))\n",
    "eps = 0.4\n",
    "print(\"%s has %d points\" % (pcl_name, np.asarray(pcl.points).shape[0]))\n",
    "o3d.visualization.draw_geometries([pcl])"
   ],
   "outputs": [
    {
     "name": "stdout",
     "output_type": "stream",
     "text": [
      "Cube has 10000 points\n"
     ]
    }
   ],
   "execution_count": 3
  },
  {
   "attachments": {},
   "cell_type": "markdown",
   "metadata": {},
   "source": [
    "If we just use k-means out of the box with the point cloud, we will get what just has been visualized.\n",
    "\n",
    "Note: Using the '+' and '-' keys in the viewer will increase/decrease the size of the points."
   ]
  },
  {
   "cell_type": "code",
   "metadata": {
    "ExecuteTime": {
     "end_time": "2024-10-07T15:41:46.173051Z",
     "start_time": "2024-10-07T15:41:39.411775Z"
    }
   },
   "source": [
    "km = KMeans(n_clusters=6, init='random',\n",
    "            n_init=10, max_iter=300, tol=1e-04, random_state=0)\n",
    "\n",
    "# Get the points from the pointcloud as nparray\n",
    "xyz = np.asarray(pcl.points)\n",
    "labels = km.fit_predict(xyz)\n",
    "draw_labels_on_model(pcl, labels)"
   ],
   "outputs": [
    {
     "name": "stdout",
     "output_type": "stream",
     "text": [
      "Cube has 6 clusters\n"
     ]
    }
   ],
   "execution_count": 4
  },
  {
   "attachments": {},
   "cell_type": "markdown",
   "metadata": {},
   "source": [
    "We can see that we get six clusters, but they do not span a side.\n",
    "\n",
    "We try again, but this time we instead use the normals of the cube as input for k-means.\n",
    "\n",
    "The normals for each plane should be parallel with the other normals from said plane."
   ]
  },
  {
   "cell_type": "code",
   "metadata": {
    "ExecuteTime": {
     "end_time": "2024-10-07T15:46:59.011049Z",
     "start_time": "2024-10-07T15:46:53.201872Z"
    }
   },
   "source": [
    "pcl.estimate_normals(search_param=o3d.geometry.KDTreeSearchParamHybrid(radius=0.1, max_nn=30))\n",
    "normals = np.asarray(pcl.normals)\n",
    "\n",
    "km_normals = KMeans(n_clusters=6, init='random', n_init=10, max_iter=300, tol=1e-04, random_state=0)\n",
    "\n",
    "normal_labels = km_normals.fit_predict(normals)\n",
    "draw_labels_on_model(pcl, normal_labels)"
   ],
   "outputs": [
    {
     "name": "stdout",
     "output_type": "stream",
     "text": [
      "Cube has 6 clusters\n"
     ]
    }
   ],
   "execution_count": 7
  },
  {
   "attachments": {},
   "cell_type": "markdown",
   "metadata": {},
   "source": [
    "This still does not work, opposite sides will also have normals that point the other way ($\\vec{n}$ and $-\\vec{n}$).\n",
    "\n",
    "So, to combat this we can attempt to use the xyz coordinates and the normals."
   ]
  },
  {
   "attachments": {},
   "cell_type": "markdown",
   "metadata": {},
   "source": [
    "## More exercises\n",
    "\n",
    "### A) K-means continued.\n",
    "\n",
    "Combine the point cloud points (xyz) with the normals and do k-means.\n",
    "\n",
    "```xyz_n = np.concatenate((xyz, normals), axis=1)```\n",
    "\n",
    "Do you get better clusters?\n",
    "Why would adding the normals help?"
   ]
  },
  {
   "metadata": {
    "ExecuteTime": {
     "end_time": "2024-10-07T15:46:49.091299Z",
     "start_time": "2024-10-07T15:46:03.333770Z"
    }
   },
   "cell_type": "code",
   "source": [
    "\n",
    "km = KMeans(n_clusters=6, init='random',\n",
    "            n_init=10, max_iter=300, tol=1e-04, random_state=0)\n",
    "\n",
    "xyz_n = np.concatenate((xyz, normals), axis=1)\n",
    "labels = km.fit_predict(xyz_n)\n",
    "draw_labels_on_model(pcl, labels)"
   ],
   "outputs": [
    {
     "name": "stdout",
     "output_type": "stream",
     "text": [
      "Cube has 6 clusters\n"
     ]
    }
   ],
   "execution_count": 6
  },
  {
   "metadata": {},
   "cell_type": "markdown",
   "source": [
    "\n",
    "### B) \n",
    "Try weighting either the points or normals by scaling them by some factor. Can this perfectly segment each of the faces of the cube?\n"
   ]
  },
  {
   "metadata": {
    "ExecuteTime": {
     "end_time": "2024-10-07T15:49:49.716321Z",
     "start_time": "2024-10-07T15:49:41.841286Z"
    }
   },
   "cell_type": "code",
   "source": [
    "scale_factor_points = 2.5\n",
    "scale_factor_normals = 1.\n",
    "\n",
    "xyz_n = np.concatenate((xyz * scale_factor_points, normals * scale_factor_normals), axis=1)\n",
    "km = KMeans(n_clusters=6, init='random',\n",
    "            n_init=10, max_iter=300, tol=1e-04, random_state=0)\n",
    "labels = km.fit_predict(xyz_n)\n",
    "draw_labels_on_model(pcl, labels)"
   ],
   "outputs": [
    {
     "name": "stdout",
     "output_type": "stream",
     "text": [
      "Cube has 6 clusters\n"
     ]
    }
   ],
   "execution_count": 12
  },
  {
   "metadata": {},
   "cell_type": "markdown",
   "source": [
    "### C)\n",
    "Try to cluster all the different shapes using k means.\n",
    "```{Python}\n",
    "d = 4\n",
    "mesh = o3d.geometry.TriangleMesh.create_tetrahedron().translate((-d, 0, 0))\n",
    "mesh += o3d.geometry.TriangleMesh.create_octahedron().translate((0, 0, 0))\n",
    "mesh += o3d.geometry.TriangleMesh.create_icosahedron().translate((d, 0, 0))\n",
    "mesh += o3d.geometry.TriangleMesh.create_torus().translate((-d, -d, 0))\n",
    "mesh += o3d.geometry.TriangleMesh.create_moebius(twists=1).translate(\n",
    "    (0, -d, 0))\n",
    "mesh += o3d.geometry.TriangleMesh.create_moebius(twists=2).translate(\n",
    "    (d, -d, 0))\n",
    "mesh.sample_points_uniformly(int(1e5)), 0.5\n",
    "```\n"
   ]
  },
  {
   "metadata": {
    "ExecuteTime": {
     "end_time": "2024-10-07T15:54:34.858491Z",
     "start_time": "2024-10-07T15:54:32.420743Z"
    }
   },
   "cell_type": "code",
   "source": [
    "d = 4\n",
    "mesh = o3d.geometry.TriangleMesh().create_tetrahedron().translate((-d, 0, 0))\n",
    "mesh += o3d.geometry.TriangleMesh().create_octahedron().translate((0, 0, 0))\n",
    "mesh += o3d.geometry.TriangleMesh().create_icosahedron().translate((d, 0, 0))\n",
    "mesh += o3d.geometry.TriangleMesh().create_torus().translate((-d, -d, 0))\n",
    "\n",
    "# 'open3d.cuda.pybind.geometry.TriangleMesh' object has no attribute 'create_moebius'\n",
    "# mesh += o3d.geometry.TriangleMesh().create_moebius(twists=1).translate((0, -d, 0))\n",
    "# mesh += o3d.geometry.TriangleMesh().create_moebius(twists=2).translate((d, -d, 0))\n",
    "pcl = mesh.sample_points_uniformly(int(1e5))\n",
    "\n",
    "xyz = np.asarray(pcl.points)\n",
    "\n",
    "km = KMeans(n_clusters=4, init='random', n_init=10, max_iter=300, tol=1e-04, random_state=0)\n",
    "labels = km.fit_predict(xyz)\n",
    "draw_labels_on_model(pcl, labels)"
   ],
   "outputs": [
    {
     "name": "stdout",
     "output_type": "stream",
     "text": [
      "Cube has 4 clusters\n"
     ]
    }
   ],
   "execution_count": 18
  },
  {
   "metadata": {},
   "cell_type": "markdown",
   "source": [
    "\n",
    "### D)\n",
    "Now try segmenting a different point cloud located at `pointclouds/fragment.ply`\n",
    "Are you able to cluster the point cloud?\n",
    "\n",
    "Which features could be useful to segment this point cloud?\n",
    "- fpfh features?\n",
    "- xyz\n",
    "- normals \n",
    "- colors\n",
    "\n",
    "Are you able to get clusters that make sense? Why?\n"
   ]
  },
  {
   "metadata": {
    "ExecuteTime": {
     "end_time": "2024-10-07T16:01:42.485902Z",
     "start_time": "2024-10-07T16:01:37.042920Z"
    }
   },
   "cell_type": "code",
   "source": [
    "# load TestData/fragment.ply\n",
    "pcd = o3d.io.read_point_cloud(\"TestData/fragment.ply\")\n",
    "\n",
    "pcd.estimate_normals(search_param=o3d.geometry.KDTreeSearchParamHybrid(radius=0.1, max_nn=30))\n",
    "normals = np.asarray(pcd.normals)\n",
    "xyz = np.asarray(pcd.points)\n",
    "colors = np.asarray(pcd.colors)\n",
    "\n",
    "a, b, c = 0.3,2.,10.\n",
    "\n",
    "data = np.concatenate([a * xyz, b * normals, c * colors], axis=1)\n",
    "\n",
    "km = KMeans(n_clusters=20, init='random',\n",
    "            n_init=10, max_iter=300, tol=1e-04, random_state=0)\n",
    "\n",
    "# Get the points from the pointcloud as nparray\n",
    "\n",
    "labels = km.fit_predict(xyz)\n",
    "draw_labels_on_model(pcd, labels)"
   ],
   "outputs": [
    {
     "name": "stdout",
     "output_type": "stream",
     "text": [
      "Cube has 20 clusters\n"
     ]
    }
   ],
   "execution_count": 32
  },
  {
   "metadata": {},
   "cell_type": "markdown",
   "source": [
    "\n",
    "### E)\n",
    "Use the built-in `cluster_dbscan` algorithm.\n",
    "Tweak the parameters and see what you get out.\n",
    "\n",
    "Attempt on the combined figures and on `fragment.ply`\n",
    "```{Python}\n",
    "#eps (float) – Density parameter that is used to find neighbouring points.\n",
    "eps = 0.02\n",
    "\n",
    "#min_points (int) – Minimum number of points to form a cluster.\n",
    "min_points = 10\n",
    "\n",
    "labels = np.array(pcl.cluster_dbscan(eps=eps, min_points=min_points, print_progress=True))\n",
    "```"
   ]
  },
  {
   "metadata": {
    "ExecuteTime": {
     "end_time": "2024-10-07T16:03:43.932445Z",
     "start_time": "2024-10-07T16:03:35.239425Z"
    }
   },
   "cell_type": "code",
   "source": [
    "pcd = o3d.io.read_point_cloud(\"TestData/fragment.ply\")\n",
    "\n",
    "eps = 0.02\n",
    "min_points = 10\n",
    "\n",
    "labels = np.array(pcd.cluster_dbscan(eps=eps, min_points=min_points, print_progress=True))\n",
    "draw_labels_on_model(pcd, labels)"
   ],
   "outputs": [
    {
     "name": "stdout",
     "output_type": "stream",
     "text": [
      "Precompute neighbors.[========================================] 100%\n",
      "Clustering[========================================] 100%\n",
      "Precompute neighbors.[========================================] 100%\n",
      "Clustering[========================================] 100%\n",
      "Precompute neighbors.[========================================] 100%\n",
      "Clustering[=======================================>] 97%\r"
     ]
    }
   ],
   "execution_count": 35
  }
 ],
 "metadata": {
  "kernelspec": {
   "display_name": "pfas",
   "language": "python",
   "name": "python3"
  },
  "language_info": {
   "codemirror_mode": {
    "name": "ipython",
    "version": 3
   },
   "file_extension": ".py",
   "mimetype": "text/x-python",
   "name": "python",
   "nbconvert_exporter": "python",
   "pygments_lexer": "ipython3",
   "version": "3.10.8"
  },
  "toc": {
   "base_numbering": 1,
   "nav_menu": {},
   "number_sections": true,
   "sideBar": true,
   "skip_h1_title": false,
   "title_cell": "Table of Contents",
   "title_sidebar": "Contents",
   "toc_cell": false,
   "toc_position": {},
   "toc_section_display": true,
   "toc_window_display": false
  },
  "varInspector": {
   "cols": {
    "lenName": 16,
    "lenType": 16,
    "lenVar": 40
   },
   "kernels_config": {
    "python": {
     "delete_cmd_postfix": "",
     "delete_cmd_prefix": "del ",
     "library": "var_list.py",
     "varRefreshCmd": "print(var_dic_list())"
    },
    "r": {
     "delete_cmd_postfix": ") ",
     "delete_cmd_prefix": "rm(",
     "library": "var_list.r",
     "varRefreshCmd": "cat(var_dic_list()) "
    }
   },
   "types_to_exclude": [
    "module",
    "function",
    "builtin_function_or_method",
    "instance",
    "_Feature"
   ],
   "window_display": false
  },
  "vscode": {
   "interpreter": {
    "hash": "cd5a613775d973e3ebb98e1e77334e79b1df328fc590baa0c4f920a9a4d0a201"
   }
  }
 },
 "nbformat": 4,
 "nbformat_minor": 4
}
